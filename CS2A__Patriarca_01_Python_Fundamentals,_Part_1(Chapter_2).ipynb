{
  "nbformat": 4,
  "nbformat_minor": 0,
  "metadata": {
    "colab": {
      "provenance": []
    },
    "kernelspec": {
      "name": "python3",
      "display_name": "Python 3"
    },
    "language_info": {
      "name": "python"
    }
  },
  "cells": [
    {
      "cell_type": "code",
      "execution_count": null,
      "metadata": {
        "id": "4gQmsmpUuJft"
      },
      "outputs": [],
      "source": []
    },
    {
      "cell_type": "markdown",
      "metadata": {
        "id": "grTGtDSVe3q9"
      },
      "source": [
        "<a id='chapter2'></a>"
      ]
    },
    {
      "cell_type": "markdown",
      "metadata": {
        "id": "_iDMW6r2e3q9"
      },
      "source": [
        "# CHAPTER 2 - Variables, Expressions, and Statements"
      ]
    },
    {
      "cell_type": "markdown",
      "metadata": {
        "id": "DbBmSjCSe3rE"
      },
      "source": [
        "## EXERCISES"
      ]
    },
    {
      "cell_type": "markdown",
      "metadata": {
        "id": "t6-VMjLFe3rE"
      },
      "source": [
        "#### Exercise 1"
      ]
    },
    {
      "cell_type": "markdown",
      "metadata": {
        "id": "mCgHL_pJe3rE"
      },
      "source": [
        "Write a program that uses input to prompt a user for their name and then welcomes them.\n",
        "```\n",
        "Enter your name: Chuck\n",
        "Hello Chuck\n",
        "```\n",
        "\n",
        "[PEW] E2.2"
      ]
    },
    {
      "cell_type": "code",
      "source": [
        "name = input(\"Enter your name: \")\n",
        "print(name)\n"
      ],
      "metadata": {
        "colab": {
          "base_uri": "https://localhost:8080/"
        },
        "id": "h-ilrT6aaLYU",
        "outputId": "c9f248ca-8d9e-41ac-9150-c5fedb639588"
      },
      "execution_count": null,
      "outputs": [
        {
          "output_type": "stream",
          "name": "stdout",
          "text": [
            "Enter your name: Chuck\n",
            "Chuck\n"
          ]
        }
      ]
    },
    {
      "cell_type": "markdown",
      "metadata": {
        "id": "68AfBMuae3rE"
      },
      "source": [
        "#### Exercise 2"
      ]
    },
    {
      "cell_type": "markdown",
      "metadata": {
        "id": "fMgrZqGJe3rE"
      },
      "source": [
        "Write a program to prompt the user for hours and rate per hour to compute gross pay.\n",
        "```\n",
        "Enter Hours: 35\n",
        "Enter Rate: 2.75\n",
        "Pay: 96.25\n",
        "```\n",
        "\n",
        "[PEW] E2.3"
      ]
    },
    {
      "cell_type": "code",
      "source": [
        "hours = input(\"Enter Hours: \")\n",
        "rate = input(\"Enter Rate: \")\n",
        "pay = int(hours) * float(rate)\n",
        "print(\"Pay:\",pay)"
      ],
      "metadata": {
        "colab": {
          "base_uri": "https://localhost:8080/"
        },
        "id": "xGEOiYCibLke",
        "outputId": "66dadff5-c57e-4756-f5e9-3019dc4ad6ec"
      },
      "execution_count": null,
      "outputs": [
        {
          "output_type": "stream",
          "name": "stdout",
          "text": [
            "Enter Hours: 35\n",
            "Enter Rate: 2.75\n",
            "Pay: 96.25\n"
          ]
        }
      ]
    },
    {
      "cell_type": "markdown",
      "metadata": {
        "id": "fN8y-rWVe3rE"
      },
      "source": [
        "#### Exercise 3"
      ]
    },
    {
      "cell_type": "markdown",
      "metadata": {
        "id": "-JvQGG6ye3rE"
      },
      "source": [
        "Assume that we execute the following assignment statements:\n",
        "```python\n",
        "width = 17\n",
        "height = 12.0\n",
        "```\n",
        "For each of the following expressions, write the value of the expression and the type (of the value of the expression).\n",
        "```python\n",
        "width//2\n",
        "width/2.0\n",
        "height/3\n",
        "1 + 2 * 5\n",
        "```\n",
        "\n",
        "[PEW] E2.4"
      ]
    },
    {
      "cell_type": "code",
      "source": [
        "width = 17\n",
        "height = 12.0\n",
        "\n",
        "width//2 #8.0\n",
        "width/2  #8.5\n",
        "height/3 #4.0\n",
        "1 + 2 * 5 #11"
      ],
      "metadata": {
        "colab": {
          "base_uri": "https://localhost:8080/"
        },
        "id": "OS32YhMHjPaL",
        "outputId": "09a5e6dd-065c-4135-8f16-83181e447ba4"
      },
      "execution_count": null,
      "outputs": [
        {
          "output_type": "execute_result",
          "data": {
            "text/plain": [
              "11"
            ]
          },
          "metadata": {},
          "execution_count": 37
        }
      ]
    },
    {
      "cell_type": "markdown",
      "metadata": {
        "id": "Q5q2HcTve3rE"
      },
      "source": [
        "#### Exercise 4\n",
        "\n",
        "Write a program that uses input to prompt a user for a number and then outputs the square of the number\n",
        "```\n",
        "Enter a number: 3\n",
        "The square of 3 is 9\n",
        "```"
      ]
    },
    {
      "cell_type": "code",
      "source": [
        "num = input(\"Enter a number: \")\n",
        "sq = int(num) ** 2\n",
        "print(\"The square of\",num,\"is\",sq)"
      ],
      "metadata": {
        "colab": {
          "base_uri": "https://localhost:8080/"
        },
        "id": "VLzTvot3fRRC",
        "outputId": "3d43ec33-b50a-4e08-f7f6-a9091a9c3f65"
      },
      "execution_count": null,
      "outputs": [
        {
          "output_type": "stream",
          "name": "stdout",
          "text": [
            "Enter a number: 3\n",
            "The square of 3 is 9\n"
          ]
        }
      ]
    },
    {
      "cell_type": "markdown",
      "metadata": {
        "id": "ZYsQb1h-e3rE"
      },
      "source": [
        "## CHALLENGE"
      ]
    },
    {
      "cell_type": "markdown",
      "metadata": {
        "id": "cILbjinke3rE"
      },
      "source": [
        "Write a program which prompts the user for a Celsius temperature, convert the temperature to Fahrenheit, and print out the converted temperature.\n",
        "\n",
        "[PEW] E2.5"
      ]
    },
    {
      "cell_type": "code",
      "source": [
        "cel = input(\"Enter temperature in Celsius: \")\n",
        "fah = (float(cel) * 1.8) + 32\n",
        "print(\"Temperature in Fahrenheit:\", fah)"
      ],
      "metadata": {
        "colab": {
          "base_uri": "https://localhost:8080/"
        },
        "id": "7ajG6HAlhEQF",
        "outputId": "20a8f5b3-0680-4572-9eeb-8af03dc1d2a4"
      },
      "execution_count": null,
      "outputs": [
        {
          "output_type": "stream",
          "name": "stdout",
          "text": [
            "Enter temperature in Celsius: 1\n",
            "Temperature in Fahrenheit: 33.8\n"
          ]
        }
      ]
    }
  ]
}