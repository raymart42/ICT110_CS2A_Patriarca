{
  "nbformat": 4,
  "nbformat_minor": 0,
  "metadata": {
    "colab": {
      "provenance": [],
      "authorship_tag": "ABX9TyNKQv7kfhFBVcGQsdPSkE76",
      "include_colab_link": true
    },
    "kernelspec": {
      "name": "python3",
      "display_name": "Python 3"
    },
    "language_info": {
      "name": "python"
    }
  },
  "cells": [
    {
      "cell_type": "markdown",
      "metadata": {
        "id": "view-in-github",
        "colab_type": "text"
      },
      "source": [
        "<a href=\"https://colab.research.google.com/github/raymart42/ICT110_CS2A_Patriarca/blob/master/Workbook_5/Lesson_2_(NumPy).ipynb\" target=\"_parent\"><img src=\"https://colab.research.google.com/assets/colab-badge.svg\" alt=\"Open In Colab\"/></a>"
      ]
    },
    {
      "cell_type": "markdown",
      "metadata": {
        "id": "nqAE_7g_Eg_U"
      },
      "source": [
        "# NumPy for Numerical Computing"
      ]
    },
    {
      "cell_type": "code",
      "execution_count": 4,
      "metadata": {
        "id": "2Q2m6mKzEg_f"
      },
      "outputs": [],
      "source": [
        "import numpy as np #あ import numpy and assign an alias named np"
      ]
    },
    {
      "cell_type": "markdown",
      "metadata": {
        "id": "ccgbRoRxEg_g"
      },
      "source": [
        "Let's check the version and what's inside the `NumPy` module:"
      ]
    },
    {
      "cell_type": "code",
      "execution_count": 5,
      "metadata": {
        "id": "M6MLus2rEg_g",
        "outputId": "43c275ec-2a09-477c-ae78-86d8044515d0",
        "colab": {
          "base_uri": "https://localhost:8080/",
          "height": 36
        }
      },
      "outputs": [
        {
          "output_type": "execute_result",
          "data": {
            "text/plain": [
              "'1.25.2'"
            ],
            "application/vnd.google.colaboratory.intrinsic+json": {
              "type": "string"
            }
          },
          "metadata": {},
          "execution_count": 5
        }
      ],
      "source": [
        "np.__version__ #checking the version by using the alias since we assigned it already"
      ]
    },
    {
      "cell_type": "code",
      "execution_count": 6,
      "metadata": {
        "id": "hxWkg9a4Eg_h",
        "outputId": "ced987da-382d-4bf6-c974-3a0b4d53a846",
        "colab": {
          "base_uri": "https://localhost:8080/"
        }
      },
      "outputs": [
        {
          "output_type": "stream",
          "name": "stdout",
          "text": [
            "['ALLOW_THREADS', 'BUFSIZE', 'CLIP', 'DataSource', 'ERR_CALL', 'ERR_DEFAULT', 'ERR_IGNORE', 'ERR_LOG', 'ERR_PRINT', 'ERR_RAISE', 'ERR_WARN', 'FLOATING_POINT_SUPPORT', 'FPE_DIVIDEBYZERO', 'FPE_INVALID', 'FPE_OVERFLOW', 'FPE_UNDERFLOW', 'False_', 'Inf', 'Infinity', 'MAXDIMS', 'MAY_SHARE_BOUNDS', 'MAY_SHARE_EXACT', 'NAN', 'NINF', 'NZERO', 'NaN', 'PINF', 'PZERO', 'RAISE', 'RankWarning', 'SHIFT_DIVIDEBYZERO', 'SHIFT_INVALID', 'SHIFT_OVERFLOW', 'SHIFT_UNDERFLOW', 'ScalarType', 'True_', 'UFUNC_BUFSIZE_DEFAULT', 'UFUNC_PYVALS_NAME', 'WRAP', '_CopyMode', '_NoValue', '_UFUNC_API', '__NUMPY_SETUP__', '__all__', '__builtins__', '__cached__', '__config__', '__deprecated_attrs__', '__dir__', '__doc__', '__expired_functions__', '__file__', '__former_attrs__', '__future_scalars__', '__getattr__', '__git_version__', '__loader__', '__name__', '__package__', '__path__', '__spec__', '__version__', '_add_newdoc_ufunc', '_builtins', '_distributor_init', '_financial_names', '_get_promotion_state', '_globals', '_int_extended_msg', '_mat', '_no_nep50_warning', '_pyinstaller_hooks_dir', '_pytesttester', '_set_promotion_state', '_specific_msg', '_typing', '_using_numpy2_behavior', '_utils', '_version', 'abs', 'absolute', 'add', 'add_docstring', 'add_newdoc', 'add_newdoc_ufunc', 'all', 'allclose', 'alltrue', 'amax', 'amin', 'angle', 'any', 'append', 'apply_along_axis', 'apply_over_axes', 'arange', 'arccos', 'arccosh', 'arcsin', 'arcsinh', 'arctan', 'arctan2', 'arctanh', 'argmax', 'argmin', 'argpartition', 'argsort', 'argwhere', 'around', 'array', 'array2string', 'array_equal', 'array_equiv', 'array_repr', 'array_split', 'array_str', 'asanyarray', 'asarray', 'asarray_chkfinite', 'ascontiguousarray', 'asfarray', 'asfortranarray', 'asmatrix', 'atleast_1d', 'atleast_2d', 'atleast_3d', 'average', 'bartlett', 'base_repr', 'binary_repr', 'bincount', 'bitwise_and', 'bitwise_not', 'bitwise_or', 'bitwise_xor', 'blackman', 'block', 'bmat', 'bool_', 'broadcast', 'broadcast_arrays', 'broadcast_shapes', 'broadcast_to', 'busday_count', 'busday_offset', 'busdaycalendar', 'byte', 'byte_bounds', 'bytes_', 'c_', 'can_cast', 'cast', 'cbrt', 'cdouble', 'ceil', 'cfloat', 'char', 'character', 'chararray', 'choose', 'clip', 'clongdouble', 'clongfloat', 'column_stack', 'common_type', 'compare_chararrays', 'compat', 'complex128', 'complex256', 'complex64', 'complex_', 'complexfloating', 'compress', 'concatenate', 'conj', 'conjugate', 'convolve', 'copy', 'copysign', 'copyto', 'corrcoef', 'correlate', 'cos', 'cosh', 'count_nonzero', 'cov', 'cross', 'csingle', 'ctypeslib', 'cumprod', 'cumproduct', 'cumsum', 'datetime64', 'datetime_as_string', 'datetime_data', 'deg2rad', 'degrees', 'delete', 'deprecate', 'deprecate_with_doc', 'diag', 'diag_indices', 'diag_indices_from', 'diagflat', 'diagonal', 'diff', 'digitize', 'disp', 'divide', 'divmod', 'dot', 'double', 'dsplit', 'dstack', 'dtype', 'dtypes', 'e', 'ediff1d', 'einsum', 'einsum_path', 'emath', 'empty', 'empty_like', 'equal', 'errstate', 'euler_gamma', 'exceptions', 'exp', 'exp2', 'expand_dims', 'expm1', 'extract', 'eye', 'fabs', 'fastCopyAndTranspose', 'fft', 'fill_diagonal', 'find_common_type', 'finfo', 'fix', 'flatiter', 'flatnonzero', 'flexible', 'flip', 'fliplr', 'flipud', 'float128', 'float16', 'float32', 'float64', 'float_', 'float_power', 'floating', 'floor', 'floor_divide', 'fmax', 'fmin', 'fmod', 'format_float_positional', 'format_float_scientific', 'format_parser', 'frexp', 'from_dlpack', 'frombuffer', 'fromfile', 'fromfunction', 'fromiter', 'frompyfunc', 'fromregex', 'fromstring', 'full', 'full_like', 'gcd', 'generic', 'genfromtxt', 'geomspace', 'get_array_wrap', 'get_include', 'get_printoptions', 'getbufsize', 'geterr', 'geterrcall', 'geterrobj', 'gradient', 'greater', 'greater_equal', 'half', 'hamming', 'hanning', 'heaviside', 'histogram', 'histogram2d', 'histogram_bin_edges', 'histogramdd', 'hsplit', 'hstack', 'hypot', 'i0', 'identity', 'iinfo', 'imag', 'in1d', 'index_exp', 'indices', 'inexact', 'inf', 'info', 'infty', 'inner', 'insert', 'int16', 'int32', 'int64', 'int8', 'int_', 'intc', 'integer', 'interp', 'intersect1d', 'intp', 'invert', 'is_busday', 'isclose', 'iscomplex', 'iscomplexobj', 'isfinite', 'isfortran', 'isin', 'isinf', 'isnan', 'isnat', 'isneginf', 'isposinf', 'isreal', 'isrealobj', 'isscalar', 'issctype', 'issubclass_', 'issubdtype', 'issubsctype', 'iterable', 'ix_', 'kaiser', 'kernel_version', 'kron', 'lcm', 'ldexp', 'left_shift', 'less', 'less_equal', 'lexsort', 'lib', 'linalg', 'linspace', 'little_endian', 'load', 'loadtxt', 'log', 'log10', 'log1p', 'log2', 'logaddexp', 'logaddexp2', 'logical_and', 'logical_not', 'logical_or', 'logical_xor', 'logspace', 'longcomplex', 'longdouble', 'longfloat', 'longlong', 'lookfor', 'ma', 'mask_indices', 'mat', 'matmul', 'matrix', 'max', 'maximum', 'maximum_sctype', 'may_share_memory', 'mean', 'median', 'memmap', 'meshgrid', 'mgrid', 'min', 'min_scalar_type', 'minimum', 'mintypecode', 'mod', 'modf', 'moveaxis', 'msort', 'multiply', 'nan', 'nan_to_num', 'nanargmax', 'nanargmin', 'nancumprod', 'nancumsum', 'nanmax', 'nanmean', 'nanmedian', 'nanmin', 'nanpercentile', 'nanprod', 'nanquantile', 'nanstd', 'nansum', 'nanvar', 'nbytes', 'ndarray', 'ndenumerate', 'ndim', 'ndindex', 'nditer', 'negative', 'nested_iters', 'newaxis', 'nextafter', 'nonzero', 'not_equal', 'numarray', 'number', 'obj2sctype', 'object_', 'ogrid', 'oldnumeric', 'ones', 'ones_like', 'outer', 'packbits', 'pad', 'partition', 'percentile', 'pi', 'piecewise', 'place', 'poly', 'poly1d', 'polyadd', 'polyder', 'polydiv', 'polyfit', 'polyint', 'polymul', 'polynomial', 'polysub', 'polyval', 'positive', 'power', 'printoptions', 'prod', 'product', 'promote_types', 'ptp', 'put', 'put_along_axis', 'putmask', 'quantile', 'r_', 'rad2deg', 'radians', 'random', 'ravel', 'ravel_multi_index', 'real', 'real_if_close', 'rec', 'recarray', 'recfromcsv', 'recfromtxt', 'reciprocal', 'record', 'remainder', 'repeat', 'require', 'reshape', 'resize', 'result_type', 'right_shift', 'rint', 'roll', 'rollaxis', 'roots', 'rot90', 'round', 'round_', 'row_stack', 's_', 'safe_eval', 'save', 'savetxt', 'savez', 'savez_compressed', 'sctype2char', 'sctypeDict', 'sctypes', 'searchsorted', 'select', 'set_numeric_ops', 'set_printoptions', 'set_string_function', 'setbufsize', 'setdiff1d', 'seterr', 'seterrcall', 'seterrobj', 'setxor1d', 'shape', 'shares_memory', 'short', 'show_config', 'show_runtime', 'sign', 'signbit', 'signedinteger', 'sin', 'sinc', 'single', 'singlecomplex', 'sinh', 'size', 'sometrue', 'sort', 'sort_complex', 'source', 'spacing', 'split', 'sqrt', 'square', 'squeeze', 'stack', 'std', 'str_', 'string_', 'subtract', 'sum', 'swapaxes', 'take', 'take_along_axis', 'tan', 'tanh', 'tensordot', 'test', 'testing', 'tile', 'timedelta64', 'trace', 'tracemalloc_domain', 'transpose', 'trapz', 'tri', 'tril', 'tril_indices', 'tril_indices_from', 'trim_zeros', 'triu', 'triu_indices', 'triu_indices_from', 'true_divide', 'trunc', 'typecodes', 'typename', 'ubyte', 'ufunc', 'uint', 'uint16', 'uint32', 'uint64', 'uint8', 'uintc', 'uintp', 'ulonglong', 'unicode_', 'union1d', 'unique', 'unpackbits', 'unravel_index', 'unsignedinteger', 'unwrap', 'ushort', 'vander', 'var', 'vdot', 'vectorize', 'version', 'void', 'vsplit', 'vstack', 'where', 'who', 'zeros', 'zeros_like']\n"
          ]
        }
      ],
      "source": [
        "print(dir(np)) #checking the content of numpy module"
      ]
    },
    {
      "cell_type": "markdown",
      "metadata": {
        "id": "H_JyiQHCEg_Y"
      },
      "source": [
        "<a id='commands'></a>\n",
        "# I. PYTHON MODULES\n",
        "\n"
      ]
    },
    {
      "cell_type": "markdown",
      "metadata": {
        "id": "4b-YS7TeEg_w"
      },
      "source": [
        "### Exercise\n",
        "\n",
        "A. Create an ndarry object (A) with any values from 1 to 100 in a nested Python List. You can choose your range from the given values (1-100).\n",
        "\n",
        "* Given that A is an ndarray object, many functionalities in numpy could be accessed by:\n",
        "    + Make sure to explain each line of codes that you have created.\n",
        "\n",
        "1. Using a property of the ndarray object\n",
        "      - e.g. `A.shape`\n",
        "2. Using a method of the ndarray object\n",
        "      - e.g. `A.max()`\n",
        "3. Using a numpy function and passing an ndarray\n",
        "     - e.g. `np.max(A)`\n",
        "\n",
        "B. Create a 5x5 integer-array filled with ones.\n",
        "* Check its shape, size, and number of dimensions. Explain briefly the codes you have created by writing a comment beside the code.\n",
        "\n",
        "C. Create an array of values from -5 to + 5. Multiply each value with 2. Print the resulting array."
      ]
    },
    {
      "cell_type": "code",
      "source": [
        "# A.\n",
        "\n",
        "#create a nested Python list with values from 1-100\n",
        "nested_list = [[i for i in range(1, 101)]]\n",
        "\n",
        "#convert the nested Python list into a NumPy ndarray object\n",
        "A = np.array(nested_list)\n",
        "\n",
        "#print the shape of the array\n",
        "print(\"Shape:\", A.shape)\n",
        "\n",
        "#print the size of the array\n",
        "print(\"Size:\", A.size)\n",
        "\n",
        "#print the number of dimensions of the array\n",
        "print(\"Number of dimensions:\", A.ndim)\n",
        "\n",
        "#print the maximum value in the array\n",
        "print(\"Max value:\", np.max(A))\n",
        "\n",
        "print(nested_list)"
      ],
      "metadata": {
        "id": "D_rvieX5-ecj",
        "colab": {
          "base_uri": "https://localhost:8080/"
        },
        "outputId": "23fc2635-879e-4f1e-b842-5ed54439ce6f"
      },
      "execution_count": 48,
      "outputs": [
        {
          "output_type": "stream",
          "name": "stdout",
          "text": [
            "Shape: (1, 100)\n",
            "Size: 100\n",
            "Number of dimensions: 2\n",
            "Max value: 100\n",
            "[[1, 2, 3, 4, 5, 6, 7, 8, 9, 10, 11, 12, 13, 14, 15, 16, 17, 18, 19, 20, 21, 22, 23, 24, 25, 26, 27, 28, 29, 30, 31, 32, 33, 34, 35, 36, 37, 38, 39, 40, 41, 42, 43, 44, 45, 46, 47, 48, 49, 50, 51, 52, 53, 54, 55, 56, 57, 58, 59, 60, 61, 62, 63, 64, 65, 66, 67, 68, 69, 70, 71, 72, 73, 74, 75, 76, 77, 78, 79, 80, 81, 82, 83, 84, 85, 86, 87, 88, 89, 90, 91, 92, 93, 94, 95, 96, 97, 98, 99, 100]]\n"
          ]
        }
      ]
    },
    {
      "cell_type": "code",
      "source": [
        "# B.\n",
        "\n",
        "b = np.ones((5, 5), dtype=int) #create 5x5 integer array filled with ones\n",
        "\n",
        "print(\"Shape:\", b.shape) #print the shape of the array\n",
        "\n",
        "\n",
        "print(\"Size:\", b.size) #print the size of the array\n",
        "\n",
        "\n",
        "print(\"Number of dimensions:\", b.ndim) #print the number of dimensions of the array\n"
      ],
      "metadata": {
        "colab": {
          "base_uri": "https://localhost:8080/"
        },
        "id": "85QV3faynvNj",
        "outputId": "ce16f2e5-39b5-410d-8b0c-c30065a15fe1"
      },
      "execution_count": 49,
      "outputs": [
        {
          "output_type": "stream",
          "name": "stdout",
          "text": [
            "Shape: (5, 5)\n",
            "Size: 25\n",
            "Number of dimensions: 2\n"
          ]
        }
      ]
    },
    {
      "cell_type": "code",
      "source": [
        "#create an array of values from -5 to +5\n",
        "c = np.arange(-5, 6)\n",
        "\n",
        "#print the array\n",
        "print(c)\n",
        "\n",
        "#multiply each value by 2\n",
        "c *= 2\n",
        "\n",
        "#print the resulting array\n",
        "print(c)\n"
      ],
      "metadata": {
        "colab": {
          "base_uri": "https://localhost:8080/"
        },
        "id": "KYUvTI5Gn3em",
        "outputId": "c3cdf932-e5bd-4282-c881-919bf9c224ac"
      },
      "execution_count": 51,
      "outputs": [
        {
          "output_type": "stream",
          "name": "stdout",
          "text": [
            "[-5 -4 -3 -2 -1  0  1  2  3  4  5]\n",
            "[-10  -8  -6  -4  -2   0   2   4   6   8  10]\n"
          ]
        }
      ]
    },
    {
      "cell_type": "markdown",
      "metadata": {
        "id": "ZZpsNuHYEg_6"
      },
      "source": [
        "### Exercise\n",
        "\n",
        "A. Choose the values from the range of numbers 1 to 100.\n",
        "1. Create an array with 30 values within the range of numbers given. You can choose your own start value and stop value. However, the incrementing value will be 2.\n",
        "   * Explain what is the result briefly by writing a comment before the code.\n",
        "2. Multiply the resulting array with 3. Print the result."
      ]
    },
    {
      "cell_type": "code",
      "source": [
        "# 1.\n",
        "#create a range from 1 to 61(excluded) with incrementing value of 2\n",
        "a = np.arange(1, 61, 2)\n",
        "print(a)\n",
        "a.size"
      ],
      "metadata": {
        "id": "IbWNhVDu-gJ6",
        "colab": {
          "base_uri": "https://localhost:8080/"
        },
        "outputId": "deaf64d4-c4e3-4be8-87c1-b96ec738cce0"
      },
      "execution_count": 52,
      "outputs": [
        {
          "output_type": "stream",
          "name": "stdout",
          "text": [
            "[ 1  3  5  7  9 11 13 15 17 19 21 23 25 27 29 31 33 35 37 39 41 43 45 47\n",
            " 49 51 53 55 57 59]\n"
          ]
        },
        {
          "output_type": "execute_result",
          "data": {
            "text/plain": [
              "30"
            ]
          },
          "metadata": {},
          "execution_count": 52
        }
      ]
    },
    {
      "cell_type": "code",
      "source": [
        "# 2.\n",
        "\n",
        "arrayMultiply = a * 3\n",
        "print(arrayMultiply)"
      ],
      "metadata": {
        "colab": {
          "base_uri": "https://localhost:8080/"
        },
        "id": "7vqbsnSVq159",
        "outputId": "2e983173-d361-4be1-e93f-9c00e1ed74ee"
      },
      "execution_count": 54,
      "outputs": [
        {
          "output_type": "stream",
          "name": "stdout",
          "text": [
            "[  3   9  15  21  27  33  39  45  51  57  63  69  75  81  87  93  99 105\n",
            " 111 117 123 129 135 141 147 153 159 165 171 177]\n"
          ]
        }
      ]
    },
    {
      "cell_type": "markdown",
      "metadata": {
        "id": "a0fwbujzEhAC"
      },
      "source": [
        "### Exercise\n",
        "\n",
        "A. Create a four-dimensional array of random integers in the interval [0, 12]. Print the result.\n",
        "1. Get the dimensions, shape, and size.\n",
        "    * Explain what is the result briefly by writing a comment before the code.\n",
        "\n",
        "B. Get the maximum number for each dimensions and display it.\n",
        "   * Explain what is the result briefly by writing a comment before the code.\n",
        "\n",
        "C. Multipy each array with 4. What is its result?\n",
        "    * Write a brief explanation on the multiplication process.\n"
      ]
    },
    {
      "cell_type": "code",
      "source": [
        "# A.\n",
        "#create four-dimensional array of random integers in the interval [0, 12]\n",
        "fourD = np.random.randint(0, 13, size=(3, 4, 2, 5))\n",
        "\n",
        "#print the result\n",
        "print(\"Four-dimensional array:\")\n",
        "print(fourD)\n",
        "\n",
        "#print the dimensions of the array which is 4\n",
        "print(\"Dimensions:\", fourD.ndim)\n",
        "\n",
        "#print the shape of the array which is (3, 4, 2, 5)\n",
        "print(\"Shape:\", fourD.shape)\n",
        "\n",
        "#print the size of the array which is 120\n",
        "print(\"Size:\", fourD.size)\n"
      ],
      "metadata": {
        "id": "KP_UIhlk-gka",
        "colab": {
          "base_uri": "https://localhost:8080/"
        },
        "outputId": "5a53663d-38a7-4608-e5c2-db8d75779edb"
      },
      "execution_count": 57,
      "outputs": [
        {
          "output_type": "stream",
          "name": "stdout",
          "text": [
            "Four-dimensional array:\n",
            "[[[[ 8 12  6 11  7]\n",
            "   [ 6  2  5  1  4]]\n",
            "\n",
            "  [[ 6  1  8  6  5]\n",
            "   [ 5  5 11  7  2]]\n",
            "\n",
            "  [[ 7  1  8  9 11]\n",
            "   [10  8  7  0  7]]\n",
            "\n",
            "  [[11 11  6  0  6]\n",
            "   [ 7  1  6  9  1]]]\n",
            "\n",
            "\n",
            " [[[ 4 10  7  5  0]\n",
            "   [ 6 11  8  8  7]]\n",
            "\n",
            "  [[11  0  0  2 11]\n",
            "   [ 5 12  3  6  3]]\n",
            "\n",
            "  [[ 5  7  6 12 12]\n",
            "   [10 12  3  2  9]]\n",
            "\n",
            "  [[12  9  7  6  7]\n",
            "   [ 8  4  3  6  9]]]\n",
            "\n",
            "\n",
            " [[[ 5  1  6  8  6]\n",
            "   [10  2  4  9  3]]\n",
            "\n",
            "  [[ 6  6  9  6  6]\n",
            "   [ 1  0  5  2  0]]\n",
            "\n",
            "  [[ 0  0  7  8  4]\n",
            "   [ 8  0  3 12  5]]\n",
            "\n",
            "  [[ 2  0 11  0 10]\n",
            "   [ 9  8  6 10  9]]]]\n",
            "Dimensions: 4\n",
            "Shape: (3, 4, 2, 5)\n",
            "Size: 120\n"
          ]
        }
      ]
    },
    {
      "cell_type": "code",
      "source": [
        "# B.\n",
        "\n",
        "#get the maximum number for each dimension and display it\n",
        "print(fourD.max(axis=(0, 1, 2)))\n"
      ],
      "metadata": {
        "colab": {
          "base_uri": "https://localhost:8080/"
        },
        "id": "TePH7hSi220Y",
        "outputId": "29b81adc-d630-4422-c381-0ca68143f82f"
      },
      "execution_count": 63,
      "outputs": [
        {
          "output_type": "stream",
          "name": "stdout",
          "text": [
            "[12 12 11 12 12]\n"
          ]
        }
      ]
    },
    {
      "cell_type": "code",
      "source": [
        "# C.\n",
        "#multiply each array with 4\n",
        "arrayMultiply = fourD * 4\n",
        "\n",
        "#print the resulting array after multiplication\n",
        "print(\"Result after multiplying each array element by 4:\")\n",
        "print(arrayMultiply)\n",
        "\n",
        "#We multiply each element of the four-dimensional array fourD by 4 using the * operator.\n",
        "#This operation results in a new array arrayMultiply where each element of the original array is multiplied by 4."
      ],
      "metadata": {
        "colab": {
          "base_uri": "https://localhost:8080/"
        },
        "id": "jJRVkC2R27JA",
        "outputId": "24edc874-6b2b-4936-f848-71dd2c15866b"
      },
      "execution_count": 65,
      "outputs": [
        {
          "output_type": "stream",
          "name": "stdout",
          "text": [
            "Result after multiplying each array element by 4:\n",
            "[[[[32 48 24 44 28]\n",
            "   [24  8 20  4 16]]\n",
            "\n",
            "  [[24  4 32 24 20]\n",
            "   [20 20 44 28  8]]\n",
            "\n",
            "  [[28  4 32 36 44]\n",
            "   [40 32 28  0 28]]\n",
            "\n",
            "  [[44 44 24  0 24]\n",
            "   [28  4 24 36  4]]]\n",
            "\n",
            "\n",
            " [[[16 40 28 20  0]\n",
            "   [24 44 32 32 28]]\n",
            "\n",
            "  [[44  0  0  8 44]\n",
            "   [20 48 12 24 12]]\n",
            "\n",
            "  [[20 28 24 48 48]\n",
            "   [40 48 12  8 36]]\n",
            "\n",
            "  [[48 36 28 24 28]\n",
            "   [32 16 12 24 36]]]\n",
            "\n",
            "\n",
            " [[[20  4 24 32 24]\n",
            "   [40  8 16 36 12]]\n",
            "\n",
            "  [[24 24 36 24 24]\n",
            "   [ 4  0 20  8  0]]\n",
            "\n",
            "  [[ 0  0 28 32 16]\n",
            "   [32  0 12 48 20]]\n",
            "\n",
            "  [[ 8  0 44  0 40]\n",
            "   [36 32 24 40 36]]]]\n"
          ]
        }
      ]
    }
  ]
}