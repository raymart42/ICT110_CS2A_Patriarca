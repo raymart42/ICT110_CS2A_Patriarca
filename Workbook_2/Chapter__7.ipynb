{
  "nbformat": 4,
  "nbformat_minor": 0,
  "metadata": {
    "colab": {
      "provenance": [],
      "mount_file_id": "1nU4xf1kelYfYrWDEJ4sHPkNQPxL4rgQc",
      "authorship_tag": "ABX9TyPFT5XbgQLQNPVF5YvtMSGE",
      "include_colab_link": true
    },
    "kernelspec": {
      "name": "python3",
      "display_name": "Python 3"
    },
    "language_info": {
      "name": "python"
    }
  },
  "cells": [
    {
      "cell_type": "markdown",
      "metadata": {
        "id": "view-in-github",
        "colab_type": "text"
      },
      "source": [
        "<a href=\"https://colab.research.google.com/github/raymart42/ICT110_CS2A_Patriarca/blob/master/Workbook_2/Chapter__7.ipynb\" target=\"_parent\"><img src=\"https://colab.research.google.com/assets/colab-badge.svg\" alt=\"Open In Colab\"/></a>"
      ]
    },
    {
      "cell_type": "code",
      "execution_count": null,
      "metadata": {
        "id": "GmaJEAyd00ZZ"
      },
      "outputs": [],
      "source": []
    },
    {
      "cell_type": "markdown",
      "metadata": {
        "id": "F5ZUyTQ7ev6K"
      },
      "source": [
        "<a id='chapter8'></a>"
      ]
    },
    {
      "cell_type": "markdown",
      "metadata": {
        "id": "6ViZbJwdev6K"
      },
      "source": [
        "# CHAPTER  7 - Files"
      ]
    },
    {
      "cell_type": "markdown",
      "metadata": {
        "id": "-Om3_a6aev6Q"
      },
      "source": [
        "- File handling skills are important for manipulating data directly.\n",
        "- However, many python modules (such as **pandas**) already provide methods for handling different types of files, providing many additional options on how to read and interpret the file.\n",
        "- The skills you have learned in this chapter will remove a bit of the mystery behind those file-handling methods provided by the other python modules\n"
      ]
    },
    {
      "cell_type": "markdown",
      "metadata": {
        "id": "bS8UavkEev6Q"
      },
      "source": [
        "## EXERCISES"
      ]
    },
    {
      "cell_type": "markdown",
      "metadata": {
        "id": "q9wGUpTwev6Q"
      },
      "source": [
        "#### Exercise 1  "
      ]
    },
    {
      "cell_type": "markdown",
      "metadata": {
        "id": "1sZ3Z7kHev6Q"
      },
      "source": [
        "Write a program to read through a file and print the contents of the file (line by line) all in upper case.\n",
        "\n",
        "from [PEW] E8-1"
      ]
    },
    {
      "cell_type": "code",
      "source": [
        "file = open('/content/drive/MyDrive/Colab Notebooks/file.txt', 'r')\n",
        "for line in file:\n",
        "  line = line.rstrip()\n",
        "  print(line)\n"
      ],
      "metadata": {
        "id": "qZ3LqKoZ8e5o",
        "colab": {
          "base_uri": "https://localhost:8080/"
        },
        "outputId": "eb768393-80f7-4ad0-952e-d0591c24e0ab"
      },
      "execution_count": 6,
      "outputs": [
        {
          "output_type": "stream",
          "name": "stdout",
          "text": [
            "Yow Wassup\n",
            "Patriarca | BSCS 2A\n"
          ]
        }
      ]
    },
    {
      "cell_type": "markdown",
      "metadata": {
        "id": "SznkWwQEev6Q"
      },
      "source": [
        "#### Exercise 2  "
      ]
    },
    {
      "cell_type": "markdown",
      "metadata": {
        "id": "Hp5j0rgLev6R"
      },
      "source": [
        "Write a program to read through a file and output the number of lines in a file.\n",
        "\n",
        "adapted from [PEW]"
      ]
    },
    {
      "cell_type": "code",
      "source": [
        "file = open('/content/drive/MyDrive/Colab Notebooks/file.txt', 'r')\n",
        "\n",
        "line_count = 0\n",
        "\n",
        "for line in file:\n",
        "  line = line.rstrip()\n",
        "  print(line)\n",
        "\n",
        "  line_count += 1\n",
        "\n",
        "print(\"Total Lines: \",line_count)\n",
        "\n"
      ],
      "metadata": {
        "colab": {
          "base_uri": "https://localhost:8080/"
        },
        "id": "-MXfziCa-zy8",
        "outputId": "b4d8f157-1472-419a-a45a-895d076f216b"
      },
      "execution_count": 9,
      "outputs": [
        {
          "output_type": "stream",
          "name": "stdout",
          "text": [
            "Yow Wassup\n",
            "Patriarca | BSCS 2A\n",
            "Total Lines:  2\n"
          ]
        }
      ]
    },
    {
      "cell_type": "markdown",
      "metadata": {
        "id": "DifDxeNlev6R"
      },
      "source": [
        "## CHALLENGE\n",
        "\n",
        "from [PEW] E8-2"
      ]
    },
    {
      "cell_type": "markdown",
      "metadata": {
        "id": "d5exuweNev6R"
      },
      "source": [
        "Write a program to prompt for a file name, and then read through the file and look for lines of the form:"
      ]
    },
    {
      "cell_type": "raw",
      "metadata": {
        "id": "kTFST5x8ev6R"
      },
      "source": [
        "X-DSPAM-Confidence: 0.8475"
      ]
    },
    {
      "cell_type": "markdown",
      "metadata": {
        "id": "l_BuOaAzev6R"
      },
      "source": [
        "When you encounter a line that starts with \"X-DSPAM-Confidence:\" pull apart the line to extract the floating-point number on the line. Count these lines and then compute the total of the spam confidence values from these lines. When you reach the end of the file, print out the average spam confidence."
      ]
    },
    {
      "cell_type": "markdown",
      "source": [
        "Enter the file name: mbox.txt\n",
        "Average spam confidence: 0.894128046745\n",
        "\n",
        "Enter the file name: mbox-short.txt\n",
        "Average spam confidence: 0.750718518519"
      ],
      "metadata": {
        "id": "qpmt2Uriev6R"
      }
    },
    {
      "cell_type": "code",
      "source": [
        "def average_spam_confidence(filename):\n",
        "  spam_count = 0\n",
        "  total_confidence = 0.0\n",
        "  try:\n",
        "    with open(filename) as f:\n",
        "      for line in f:\n",
        "        if line.startswith(\"X-DSPAM-Confidence:\"):\n",
        "          confidence = float(line.split()[1])\n",
        "          spam_count += 1\n",
        "          total_confidence += confidence\n",
        "  except FileNotFoundError:\n",
        "    print(f\"File '{filename}' not found.\")\n",
        "    return None\n",
        "\n",
        "filename = input(\"Enter file name: \")\n",
        "\n",
        "average_confidence = average_spam_confidence(filename)\n",
        "\n",
        "if average_confidence is not None:\n",
        "  print(f\"Average spam confidence: {average_confidence:.10f}\")\n",
        "else:\n",
        "  print(\"No spam confidence information found\")"
      ],
      "metadata": {
        "colab": {
          "base_uri": "https://localhost:8080/"
        },
        "id": "gEVxhLe1ASMW",
        "outputId": "5bc5d80f-c947-4c86-c218-33adf8ee6559"
      },
      "execution_count": 15,
      "outputs": [
        {
          "output_type": "stream",
          "name": "stdout",
          "text": [
            "Enter file name: wew\n",
            "File 'wew' not found.\n",
            "No spam confidence information found\n"
          ]
        }
      ]
    }
  ]
}