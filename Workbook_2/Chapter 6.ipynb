{
  "nbformat": 4,
  "nbformat_minor": 0,
  "metadata": {
    "colab": {
      "provenance": [],
      "authorship_tag": "ABX9TyNRilQzf7prRJcJhJ9Anht8",
      "include_colab_link": true
    },
    "kernelspec": {
      "name": "python3",
      "display_name": "Python 3"
    },
    "language_info": {
      "name": "python"
    }
  },
  "cells": [
    {
      "cell_type": "markdown",
      "metadata": {
        "id": "view-in-github",
        "colab_type": "text"
      },
      "source": [
        "<a href=\"https://colab.research.google.com/github/raymart42/ICT110_CS2A_Patriarca/blob/master/Workbook_2/Chapter%206.ipynb\" target=\"_parent\"><img src=\"https://colab.research.google.com/assets/colab-badge.svg\" alt=\"Open In Colab\"/></a>"
      ]
    },
    {
      "cell_type": "markdown",
      "metadata": {
        "id": "hy9Juvrzev5s"
      },
      "source": [
        "<a id='chapter6'></a>"
      ]
    },
    {
      "cell_type": "markdown",
      "metadata": {
        "id": "rx4XEZISev5s"
      },
      "source": [
        "# CHAPTER 6  - `Strings`"
      ]
    },
    {
      "cell_type": "markdown",
      "metadata": {
        "id": "WyjGD9Snev6J"
      },
      "source": [
        "## EXERCISES"
      ]
    },
    {
      "cell_type": "markdown",
      "metadata": {
        "id": "hIYIMRPuev6J"
      },
      "source": [
        "#### Exercise 1"
      ]
    },
    {
      "cell_type": "markdown",
      "metadata": {
        "id": "L1ASOC_aev6J"
      },
      "source": [
        "Given the code below    \n",
        "\n",
        "    text = 'Business Analytics'\n",
        "\n",
        "What will the following expressions produce?\n",
        "    \n",
        "    text[4]\n",
        "    text[2:4]\n",
        "    text[:4]\n",
        "    text[4:]\n",
        "    text[-2]\n",
        "    text[-4:-2]\n",
        "    text[-2:]\n",
        "    text[:-2]\n",
        "    "
      ]
    },
    {
      "cell_type": "code",
      "source": [
        "text = 'Business Analytics'\n",
        "print(text[4])       # 'n' extract the character at index 4\n",
        "print(text[2:4])     # 'si' extract characters from index 2 (inclusive) to index 4 (exclusive)\n",
        "print(text[:4])      # 'Busi' extract characters from the beginning of the string up to index 4 (exclusive)\n",
        "print(text[4:])      # 'ness Analytics' extract characters from the beginning of the string up to index 4 (exclusive)\n",
        "print(text[-2])      # 'c' extract second to the last index\n",
        "print(text[-4:-2])   # 'ti' extract characters from the 4th character from the end (inclusive) to the 2nd character from the end (exclusive)\n",
        "print(text[-2:])     # 'cs' extract characters from the 2nd to  the lasy character (inclusive) to the end of the string\n",
        "print(text[:-2])     # 'Business Analyti' extract characters from the beginning of the string up to the 2nd character from the end (exclusive)\n"
      ],
      "metadata": {
        "colab": {
          "base_uri": "https://localhost:8080/"
        },
        "id": "VdgWRA2wvRo2",
        "outputId": "3dc07d3b-cf3e-4748-e51f-dc438a2eb86e"
      },
      "execution_count": 2,
      "outputs": [
        {
          "output_type": "stream",
          "name": "stdout",
          "text": [
            "n\n",
            "si\n",
            "Busi\n",
            "ness Analytics\n",
            "c\n",
            "ti\n",
            "cs\n",
            "Business Analyti\n"
          ]
        }
      ]
    },
    {
      "cell_type": "markdown",
      "metadata": {
        "id": "eNRFPIjbev6K"
      },
      "source": [
        "#### Exercise 2"
      ]
    },
    {
      "cell_type": "markdown",
      "metadata": {
        "id": "E02c2FD6ev6K"
      },
      "source": [
        "Given the code below:\n",
        "    \n",
        "    phrase = 'One Ring to rule them all'\n",
        "\n",
        "What string slicing expression gives out the following words:\n",
        "\n",
        "    'One '\n",
        "    'Ring'\n",
        "    'all'\n",
        "    'them'\n",
        "    'One Ring to rule them all'\n",
        "    "
      ]
    },
    {
      "cell_type": "markdown",
      "metadata": {
        "id": "3r8Wcvfdev6K"
      },
      "source": [
        "\n",
        "## CHALLENGE\n"
      ]
    },
    {
      "cell_type": "markdown",
      "metadata": {
        "id": "Y5b8qDcDev6K"
      },
      "source": [
        "Write a program which repeatedly reads a **full name**, then does the following:\n",
        "- strips the name of any trailing spaces\n",
        "- capitalizes the first letter\n",
        "- puts the rest into smaller letters\n"
      ]
    }
  ]
}