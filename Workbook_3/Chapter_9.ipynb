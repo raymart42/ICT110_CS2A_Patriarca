{
  "nbformat": 4,
  "nbformat_minor": 0,
  "metadata": {
    "colab": {
      "provenance": [],
      "authorship_tag": "ABX9TyPp5guV5dy3z5L5LoMrwRU6",
      "include_colab_link": true
    },
    "kernelspec": {
      "name": "python3",
      "display_name": "Python 3"
    },
    "language_info": {
      "name": "python"
    }
  },
  "cells": [
    {
      "cell_type": "markdown",
      "metadata": {
        "id": "view-in-github",
        "colab_type": "text"
      },
      "source": [
        "<a href=\"https://colab.research.google.com/github/raymart42/ICT110_CS2A_Patriarca/blob/master/Workbook_3/Chapter_9.ipynb\" target=\"_parent\"><img src=\"https://colab.research.google.com/assets/colab-badge.svg\" alt=\"Open In Colab\"/></a>"
      ]
    },
    {
      "cell_type": "markdown",
      "metadata": {
        "id": "o5p3FcuCJQEf"
      },
      "source": [
        "<a id='chapter9'></a>\n",
        "\n",
        "# CHAPTER  9 - Dictionaries"
      ]
    },
    {
      "cell_type": "markdown",
      "metadata": {
        "id": "zXj5a6N7JQEr"
      },
      "source": [
        "## EXERCISES"
      ]
    },
    {
      "cell_type": "markdown",
      "metadata": {
        "id": "9lI0eQvLJQEr"
      },
      "source": [
        "#### Exercise 1\n",
        "\n",
        "Create a dictionary with the following keys and values showing a partial list of Real GDP growth in Annual percent change from IMF (Source: http://www.imf.org/external/datamapper/NGDP_RPCH@WEO/OEMDC/ADVEC/WEOWORLD)\n",
        "\n",
        "    China 6.5\n",
        "    Japan 0.7\n",
        "    Philippines 6.7\n",
        "    United States 2.3\n",
        "    "
      ]
    },
    {
      "cell_type": "code",
      "source": [
        "gdp = {}\n",
        "\n",
        "gdp['China'] = 6.5\n",
        "gdp['Japan'] = 0.7\n",
        "gdp['Philippines'] = 6.7\n",
        "gdp['United States'] = 2.3\n",
        "\n",
        "print(gdp)\n"
      ],
      "metadata": {
        "colab": {
          "base_uri": "https://localhost:8080/"
        },
        "id": "CbTMgootfBPr",
        "outputId": "e4aa9222-b6d6-4ade-9d8e-92209f54ba1d"
      },
      "execution_count": null,
      "outputs": [
        {
          "output_type": "stream",
          "name": "stdout",
          "text": [
            "{'China': 6.5, 'Japan': 0.7, 'Philippines': 6.7, 'United States': 2.3}\n"
          ]
        }
      ]
    },
    {
      "cell_type": "markdown",
      "metadata": {
        "id": "Htf_VTx3JQEr"
      },
      "source": [
        "#### Exercise 2\n",
        "\n",
        "Display all the keys and values from the dictionary you created above\n"
      ]
    },
    {
      "cell_type": "code",
      "source": [
        "gdp = {}\n",
        "\n",
        "gdp['China'] = 6.5\n",
        "gdp['Japan'] = 0.7\n",
        "gdp['Philippines'] = 6.7\n",
        "gdp['United States'] = 2.3\n",
        "\n",
        "\n",
        "for country in gdp:\n",
        "    print(country)\n",
        "\n",
        "for country in gdp:\n",
        "    print(gdp[country])\n"
      ],
      "metadata": {
        "colab": {
          "base_uri": "https://localhost:8080/"
        },
        "id": "wLFTWh_oh4sT",
        "outputId": "c40c85cf-d165-4237-b1f0-5d26f31c3993"
      },
      "execution_count": null,
      "outputs": [
        {
          "output_type": "stream",
          "name": "stdout",
          "text": [
            "China\n",
            "Japan\n",
            "Philippines\n",
            "United States\n",
            "6.5\n",
            "0.7\n",
            "6.7\n",
            "2.3\n"
          ]
        }
      ]
    },
    {
      "cell_type": "markdown",
      "source": [
        "#### Exercise 3\n",
        "\n",
        "Write a program that asks the user to enter a line of text and then counts the number of each word that appeared in the line of text.\n",
        "Use the string function `split()` to make a list of words from a given string\n",
        "e.g.:\n",
        "\n",
        "```python\n",
        "word_list = line.split()\n",
        "```\n",
        "\n",
        "will return a list of words from the string `line` and store it in the variable `word_list`.\n",
        "\n",
        "\n",
        "(Adapted from [PES])"
      ],
      "metadata": {
        "id": "kEZ1oSuyJQEr"
      }
    },
    {
      "cell_type": "code",
      "source": [
        "text = input(\"Enter Text: \")\n",
        "word_list = text.lower().split()  #I used text.lower() to convert the text to lowercase so that same words with different cases still counts\n",
        "counts = {}\n",
        "\n",
        "for word in word_list:\n",
        "    if word in counts:\n",
        "        counts[word] += 1\n",
        "    else:\n",
        "        counts[word] = 1\n",
        "\n",
        "for word, count in counts.items():\n",
        "    print(f\"{word}: {count}\")\n"
      ],
      "metadata": {
        "colab": {
          "base_uri": "https://localhost:8080/"
        },
        "id": "BNEqBp2QiXlq",
        "outputId": "7bf39f24-bfe7-4406-e414-5f5fb82f9b89"
      },
      "execution_count": null,
      "outputs": [
        {
          "output_type": "stream",
          "name": "stdout",
          "text": [
            "Enter Text: Twinkle, twinkle, little star How I wonder what you are\n",
            "twinkle,: 2\n",
            "little: 1\n",
            "star: 1\n",
            "how: 1\n",
            "i: 1\n",
            "wonder: 1\n",
            "what: 1\n",
            "you: 1\n",
            "are: 1\n"
          ]
        }
      ]
    }
  ]
}