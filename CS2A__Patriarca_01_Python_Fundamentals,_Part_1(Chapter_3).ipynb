{
  "nbformat": 4,
  "nbformat_minor": 0,
  "metadata": {
    "colab": {
      "provenance": []
    },
    "kernelspec": {
      "name": "python3",
      "display_name": "Python 3"
    },
    "language_info": {
      "name": "python"
    }
  },
  "cells": [
    {
      "cell_type": "code",
      "execution_count": null,
      "metadata": {
        "id": "o1jY_41Pu0uN"
      },
      "outputs": [],
      "source": []
    },
    {
      "cell_type": "markdown",
      "metadata": {
        "id": "bgE-QmcZe3rE"
      },
      "source": [
        "<a id='chapter3'></a>"
      ]
    },
    {
      "cell_type": "markdown",
      "metadata": {
        "id": "SMXjO86Ye3rF"
      },
      "source": [
        "# CHAPTER 3 - Conditional Execution"
      ]
    },
    {
      "cell_type": "markdown",
      "metadata": {
        "id": "kOrFW6bTe3rI"
      },
      "source": [
        "## EXERCISES"
      ]
    },
    {
      "cell_type": "markdown",
      "metadata": {
        "id": "bGjKPFnGe3rI"
      },
      "source": [
        "#### Exercise 1"
      ]
    },
    {
      "cell_type": "markdown",
      "metadata": {
        "id": "pDbHTZ1Qe3rI"
      },
      "source": [
        "In the code below, which will never print regardless of the value for x? Edit the code to correct the error.\n",
        "\n",
        "```python\n",
        "if x > 0 :\n",
        "    print('Above 0')\n",
        "elif x >  10 :\n",
        "    print('Above 10')\n",
        "elif x > 50 :\n",
        "    print('Above 50')\n",
        "elif x >  20 :\n",
        "    print('Above 20')\n",
        "else :\n",
        "    print('Something else')\n",
        "```"
      ]
    },
    {
      "cell_type": "code",
      "source": [
        "#in the old code, it will never print if the number is greater than 10, 50, and 20.\n",
        "#For example, if the user entered x = 20, it will only say that it is \"Above 0\" because it already satisfies the condition and will stop/break the program.\n",
        "#Also, it will only print \"Somethingh else if x is <= 0.\n",
        "\n",
        "\n",
        "x = 55\n",
        "\n",
        "if x > 0 and x <= 10 :\n",
        "    print('Above 0')\n",
        "elif x > 10 and x <= 20 :\n",
        "    print('Above 10')\n",
        "elif x > 50 :\n",
        "    print('Above 50')\n",
        "elif x > 20 and x <= 50:\n",
        "    print('Above 20')\n",
        "else :\n",
        "    print('Something else')"
      ],
      "metadata": {
        "colab": {
          "base_uri": "https://localhost:8080/"
        },
        "id": "IdEQzfHYliJz",
        "outputId": "fae95087-2e83-4fa0-e1a7-a28d77217e6d"
      },
      "execution_count": null,
      "outputs": [
        {
          "output_type": "stream",
          "name": "stdout",
          "text": [
            "Above 50\n"
          ]
        }
      ]
    },
    {
      "cell_type": "markdown",
      "metadata": {
        "id": "e2xkW1_Ze3rI"
      },
      "source": [
        "#### Exercise 2"
      ]
    },
    {
      "cell_type": "markdown",
      "source": [
        "Write your salary computation to give an employee 1.5 times the hourly rate for hours worked above 40 hours. Example:\n",
        "\n",
        "    Enter Hours: 45\n",
        "    Enter Rate: 10\n",
        "    Pay: 475.0\n",
        "    \n",
        "[PEW] E3.2"
      ],
      "metadata": {
        "id": "HLALLCqZe3rI"
      }
    },
    {
      "cell_type": "code",
      "source": [
        "hours = float(input(\"Enter Hours: \"))\n",
        "rate = float(input(\"Enter Rate: \" ))\n",
        "\n",
        "if hours > 40 :\n",
        "  regular = 40 * rate\n",
        "  ot = hours - 40\n",
        "  pay = regular + (rate * 1.5 * (ot))\n",
        "\n",
        "else  :\n",
        "  pay = rate * hours\n",
        "\n",
        "print(\"Pay:\",pay)\n",
        "\n",
        "\n",
        "\n"
      ],
      "metadata": {
        "colab": {
          "base_uri": "https://localhost:8080/"
        },
        "id": "VFyc6yFitBfw",
        "outputId": "29bd6411-2ecc-43e6-ac13-b5019c8242f1"
      },
      "execution_count": null,
      "outputs": [
        {
          "output_type": "stream",
          "name": "stdout",
          "text": [
            "Enter Hours: 45\n",
            "Enter Rate: 10\n",
            "Pay: 475.0\n"
          ]
        }
      ]
    },
    {
      "cell_type": "markdown",
      "metadata": {
        "id": "SN_HES89e3rI"
      },
      "source": [
        "## CHALLENGE"
      ]
    },
    {
      "cell_type": "markdown",
      "metadata": {
        "id": "ECIVGzywe3rI"
      },
      "source": [
        "Write a program to prompt for a score between 0 and 100 and print a grade using the following table:\n",
        "\n",
        "    Score           Grade\n",
        "    [ 97, 100]      1.0\n",
        "    [ 93,  97)\t\t1.25\n",
        "    [ 89,  93)\t\t1.5\n",
        "    [ 85,  89)\t\t1.75\n",
        "    [ 81,  85)\t\t2.0\n",
        "    [ 77,  81)\t\t2.25\n",
        "    [ 74,  77)\t\t2.5\n",
        "    [ 0,   74)\t\t3.0\n",
        "\n",
        "Adapted from [PEW] E3.3\n",
        "<br>"
      ]
    },
    {
      "cell_type": "markdown",
      "metadata": {
        "id": "wg43qJv7e3rI"
      },
      "source": [
        "[TABLE OF CONTENTS](#contents)"
      ]
    },
    {
      "cell_type": "code",
      "source": [
        "score = int(input(\"Enter Score:\"))\n",
        "\n",
        "if score >= 0 and score < 74:\n",
        "  grade = 3.0\n",
        "\n",
        "elif score >= 74 and score < 77:\n",
        "  grade = 2.5\n",
        "\n",
        "elif score >= 77 and score < 85:\n",
        "  grade = 2.25\n",
        "\n",
        "elif score >= 81 and score < 85:\n",
        "  grade = 2.0\n",
        "\n",
        "elif score >= 85 and score < 89:\n",
        "  grade = 1.75\n",
        "\n",
        "elif score >= 89 and score < 93:\n",
        "  grade = 1.5\n",
        "\n",
        "elif score >= 93 and score < 97:\n",
        "  grade = 1.25\n",
        "\n",
        "elif score >= 97 and score <= 100:\n",
        "  grade = 1.0\n",
        "\n",
        "print(\"Grade:\", grade)"
      ],
      "metadata": {
        "colab": {
          "base_uri": "https://localhost:8080/"
        },
        "id": "LBzu4R3OL03u",
        "outputId": "f0b37d36-bd0a-4402-81be-b50b7473b44d"
      },
      "execution_count": null,
      "outputs": [
        {
          "output_type": "stream",
          "name": "stdout",
          "text": [
            "Enter Score:99\n",
            "Grade: 1.0\n"
          ]
        }
      ]
    }
  ]
}