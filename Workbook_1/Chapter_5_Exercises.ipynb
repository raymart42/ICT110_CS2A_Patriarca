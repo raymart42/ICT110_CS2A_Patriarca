{
  "nbformat": 4,
  "nbformat_minor": 0,
  "metadata": {
    "colab": {
      "provenance": [],
      "authorship_tag": "ABX9TyPX6icjkEdVMadSVFKH6mMb",
      "include_colab_link": true
    },
    "kernelspec": {
      "name": "python3",
      "display_name": "Python 3"
    },
    "language_info": {
      "name": "python"
    }
  },
  "cells": [
    {
      "cell_type": "markdown",
      "metadata": {
        "id": "view-in-github",
        "colab_type": "text"
      },
      "source": [
        "<a href=\"https://colab.research.google.com/github/raymart42/ICT110_CS2A_Patriarca/blob/master/Workbook_1/Chapter_5_Exercises.ipynb\" target=\"_parent\"><img src=\"https://colab.research.google.com/assets/colab-badge.svg\" alt=\"Open In Colab\"/></a>"
      ]
    },
    {
      "cell_type": "markdown",
      "source": [
        "## **CHAPTER 5 - ITERATIONS**"
      ],
      "metadata": {
        "id": "w3SLEhMdLxJz"
      }
    },
    {
      "cell_type": "markdown",
      "metadata": {
        "id": "lMymMvrve3rQ"
      },
      "source": [
        "## EXERCISES"
      ]
    },
    {
      "cell_type": "markdown",
      "metadata": {
        "id": "WrWqQhdue3rQ"
      },
      "source": [
        "#### Exercise 1"
      ]
    },
    {
      "cell_type": "markdown",
      "source": [
        "Investigate on the difference between `is` and `==` given the following variables.\n",
        "```python\n",
        "a = 2\n",
        "b = 2.0\n",
        "c = a\n",
        "```"
      ],
      "metadata": {
        "id": "JkkxmMpoe3rQ"
      }
    },
    {
      "cell_type": "code",
      "source": [
        "a = 2\n",
        "b = 2.0\n",
        "c = a\n",
        "\n",
        "print(a is b) # false \"a\" is an integer, and \"b\" is a float\n",
        "print(a is c) # true \"c\" is just like another name of \"a\"\n",
        "print(b is c) # False, b is a float, and c is an integer\n",
        "\n",
        "print(a == b) # true as both has the same value of 2\n",
        "print(a == c) # True just like \"a is c\" because \"c\" and \"a\" hold the same value\n",
        "print(b == c) # true they represent the same value (2), so they are equal\n"
      ],
      "metadata": {
        "colab": {
          "base_uri": "https://localhost:8080/"
        },
        "id": "HgCtDlcdNCPu",
        "outputId": "c8677dcd-79e3-425a-f848-4992c2d1b564"
      },
      "execution_count": 1,
      "outputs": [
        {
          "output_type": "stream",
          "name": "stdout",
          "text": [
            "False\n",
            "True\n",
            "False\n",
            "True\n",
            "True\n",
            "True\n"
          ]
        }
      ]
    },
    {
      "cell_type": "markdown",
      "metadata": {
        "id": "HnR5qgaHe3rQ"
      },
      "source": [
        "## CHALLENGES"
      ]
    },
    {
      "cell_type": "markdown",
      "metadata": {
        "id": "Ae2HErw9e3rQ"
      },
      "source": [
        "#### Challenge 1"
      ]
    },
    {
      "cell_type": "markdown",
      "metadata": {
        "id": "0pmOvKife3rQ"
      },
      "source": [
        "Write a program which repeatedly reads numbers until the user enters \"done\". Once \"done\" is entered, print out the total, count, and average of the numbers. If the user enters anything other than a number, detect their mistake using try and except and print an error message and skip to the next number.\n",
        "\n",
        "    Enter a number: 4\n",
        "    Enter a number: 5\n",
        "    Enter a number: bad data\n",
        "    Invalid input\n",
        "    Enter a number: 7\n",
        "    Enter a number: done\n",
        "    16 3 5.333333333333333\n",
        "    \n",
        "[PEW] E5.1"
      ]
    },
    {
      "cell_type": "code",
      "source": [
        "total = 0\n",
        "count = 0\n",
        "\n",
        "while True:\n",
        "    num = input(\"Enter a number: \")\n",
        "\n",
        "    if num == 'done':\n",
        "        break\n",
        "\n",
        "    try:\n",
        "        total += float(num)\n",
        "        count += 1\n",
        "    except ValueError:\n",
        "        print(\"Invalid input\")\n",
        "\n",
        "if count:\n",
        "    print(total, count, total / count)\n",
        "else:\n",
        "    print(\"No numbers entered.\")\n"
      ],
      "metadata": {
        "colab": {
          "base_uri": "https://localhost:8080/"
        },
        "id": "EShBGWpxQDNs",
        "outputId": "e5901cfe-4cde-4140-85e4-457b26c72a96"
      },
      "execution_count": null,
      "outputs": [
        {
          "output_type": "stream",
          "name": "stdout",
          "text": [
            "Enter a number: 4\n",
            "Enter a number: 5\n",
            "Enter a number: bad data\n",
            "Invalid input\n",
            "Enter a number: 7\n",
            "Enter a number: done\n",
            "16.0 3 5.333333333333333\n"
          ]
        }
      ]
    },
    {
      "cell_type": "markdown",
      "metadata": {
        "id": "ts7aZrXte3rQ"
      },
      "source": [
        "#### Challenge 2  "
      ]
    },
    {
      "cell_type": "markdown",
      "metadata": {
        "id": "GiUa3gnoe3rQ"
      },
      "source": [
        "Write another program that prompts for a list of numbers as above and at the end prints out both the maximum and minimum of the numbers instead of the average.\n",
        "\n",
        "[PEW] E5.2"
      ]
    },
    {
      "cell_type": "code",
      "source": [
        "numbers = []\n",
        "\n",
        "while True:\n",
        "    num_input = input(\"Enter a number or 'done' to finish: \")\n",
        "    if num_input == 'done':\n",
        "        break\n",
        "    try:\n",
        "        number = int(num_input)\n",
        "        numbers.append(number)\n",
        "    except ValueError:\n",
        "        print(\"Invalid! Enter a valid number or 'done'.\")\n",
        "\n",
        "if numbers:\n",
        "    max_number = numbers[0]\n",
        "    min_number = numbers[0]\n",
        "\n",
        "    for num in numbers:\n",
        "        if num > max_number:\n",
        "            max_number = num\n",
        "        if num < min_number:\n",
        "            min_number = num\n",
        "\n",
        "    print(\"Max:\", max_number)\n",
        "    print(\"Min:\", min_number)\n",
        "else:\n",
        "    print(\"No numbers were entered.\")\n"
      ],
      "metadata": {
        "colab": {
          "base_uri": "https://localhost:8080/"
        },
        "id": "M72LuT0eQRHF",
        "outputId": "139c602d-7002-4799-da83-df5abeb3fa83"
      },
      "execution_count": null,
      "outputs": [
        {
          "output_type": "stream",
          "name": "stdout",
          "text": [
            "Enter a number or 'done' to finish: 1\n",
            "Enter a number or 'done' to finish: 2\n",
            "Enter a number or 'done' to finish: 3\n",
            "Enter a number or 'done' to finish: 4\n",
            "Enter a number or 'done' to finish: 5\n",
            "Enter a number or 'done' to finish: done\n",
            "Max: 5\n",
            "Min: 1\n"
          ]
        }
      ]
    }
  ]
}